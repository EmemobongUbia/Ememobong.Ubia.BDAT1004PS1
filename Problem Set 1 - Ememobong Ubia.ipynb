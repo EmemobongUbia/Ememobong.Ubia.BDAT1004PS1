{
 "cells": [
  {
   "cell_type": "markdown",
   "id": "c45c8f8a",
   "metadata": {},
   "source": [
    "# Question 1"
   ]
  },
  {
   "cell_type": "code",
   "execution_count": 3,
   "id": "a6da3ccd",
   "metadata": {},
   "outputs": [
    {
     "name": "stdout",
     "output_type": "stream",
     "text": [
      "5 is an integer\n",
      "5.0 is a float data\n",
      "5 > 1 is a boolean value\n",
      "5 * 2 is a string\n",
      "'5' * 2 is a string multiplication operation\n",
      "'5' + '2' is a string concatenation operation\n",
      "5 / 2 is a float data\n",
      "5 % 2 is an integer\n",
      "{5, 2, 1} is a data type\n",
      "5 == 3 is a boolean value\n",
      "Pi (the number) is a float type\n"
     ]
    }
   ],
   "source": [
    "# 5 is an integer\n",
    "print(\"5 is an integer\")\n",
    "\n",
    "# 5.0 is a float data\n",
    "print(\"5.0 is a float data\")\n",
    "\n",
    "# 5 > 1 is a boolean value (true or false)\n",
    "print(\"5 > 1 is a boolean value\")\n",
    "\n",
    "# 5 * 2 is a string\n",
    "print(\"5 * 2 is a string\")\n",
    "\n",
    "# '5' * 2 is a string multiplication operation\n",
    "print(\"'5' * 2 is a string multiplication operation\")\n",
    "\n",
    "# '5' + '2' is a string concatenation operation\n",
    "print(\"'5' + '2' is a string concatenation operation\")\n",
    "\n",
    "# 5 / 2 is a float data\n",
    "print(\"5 / 2 is a float data\")\n",
    "\n",
    "# 5 % 2 is an integer\n",
    "print(\"5 % 2 is an integer\")\n",
    "\n",
    "# {5,2,1} is a data type\n",
    "print(\"{5, 2, 1} is a data type\")\n",
    "\n",
    "# 5 == 3 is a boolean value\n",
    "print(\"5 == 3 is a boolean value\")\n",
    "\n",
    "# Pi (the number) is a float type\n",
    "print(\"Pi (the number) is a float type\")"
   ]
  },
  {
   "cell_type": "markdown",
   "id": "f4985d61",
   "metadata": {},
   "source": [
    "# Question 2"
   ]
  },
  {
   "cell_type": "code",
   "execution_count": 4,
   "id": "b25275b1",
   "metadata": {},
   "outputs": [
    {
     "name": "stdout",
     "output_type": "stream",
     "text": [
      "34\n"
     ]
    }
   ],
   "source": [
    "word = 'supercalifragilisticexpialidocious'\n",
    "num_letters = len(word)\n",
    "print(num_letters)"
   ]
  },
  {
   "cell_type": "code",
   "execution_count": 5,
   "id": "80539c4f",
   "metadata": {},
   "outputs": [
    {
     "name": "stdout",
     "output_type": "stream",
     "text": [
      "True\n"
     ]
    }
   ],
   "source": [
    "word = 'Supercalifragilisticexpialidocious'\n",
    "substring = 'ice'\n",
    "result = substring in word\n",
    "print(result)"
   ]
  },
  {
   "cell_type": "code",
   "execution_count": 6,
   "id": "829e8f6d",
   "metadata": {},
   "outputs": [
    {
     "name": "stdout",
     "output_type": "stream",
     "text": [
      "Supercalifragilisticexpialidocious\n"
     ]
    }
   ],
   "source": [
    "words = ['Supercalifragilisticexpialidocious', 'Honorificabilitudinitatibus', 'Bababadalgharaghtakamminarronnkonn']\n",
    "longest_word=max(words,key=len)\n",
    "print(longest_word)"
   ]
  },
  {
   "cell_type": "code",
   "execution_count": 7,
   "id": "254dac53",
   "metadata": {},
   "outputs": [
    {
     "name": "stdout",
     "output_type": "stream",
     "text": [
      "First: Bartok\n",
      "Last: Buxtehude\n"
     ]
    }
   ],
   "source": [
    "composers = ['Berlioz', 'Borodin', 'Brian', 'Bartok', 'Bellini', 'Buxtehude']\n",
    "sorted_composers = sorted(composers)\n",
    "print(\"First:\",sorted_composers[0])\n",
    "print(\"Last:\",sorted_composers[-1])"
   ]
  },
  {
   "cell_type": "markdown",
   "id": "47807d59",
   "metadata": {},
   "source": [
    "# Question 3"
   ]
  },
  {
   "cell_type": "code",
   "execution_count": 8,
   "id": "118bb611",
   "metadata": {},
   "outputs": [
    {
     "name": "stdout",
     "output_type": "stream",
     "text": [
      "Area of triangle with sides 2, 2, 2 is: 1.7320508075688772\n"
     ]
    }
   ],
   "source": [
    "import math\n",
    "\n",
    "def triangleArea(a, b, c):\n",
    "    p = a + b + c\n",
    "    s = p / 2\n",
    "    area = math.sqrt(s * (s - a) * (s - b) * (s - c))\n",
    "    print(\"Area of triangle with sides {}, {}, {} is: {}\".format(a, b, c, area))\n",
    "\n",
    "triangleArea(2, 2, 2)"
   ]
  },
  {
   "cell_type": "markdown",
   "id": "a358ccc0",
   "metadata": {},
   "source": [
    "# Question 4"
   ]
  },
  {
   "cell_type": "raw",
   "id": "80995689",
   "metadata": {},
   "source": [
    "Using C#\n",
    "\n",
    "using System;\n",
    "using System.Collections.Generic;\n",
    "using System.Linq;\n",
    "using System.Text;\n",
    "using System.Threading.Tasks;\n",
    "\n",
    "Console.WriteLine (\"How many numbers do you have?\");\n",
    "int input = Convert.ToInt32(Console.ReadLine());\n",
    "int[] array1 = new int[10];\n",
    "int[] array2 = new int[10];\n",
    "int[] array3 = new int[10];\n",
    "int a, b = 0, c = 0;\n",
    "\n",
    "Console.WriteLine($\"Enter {input} values in the array: \");\n",
    "\n",
    "for (a = 0; a < input; a++)\n",
    "{\n",
    "    Console.Write($\"Element {a + 1} is: \");\n",
    "    array1[a] = Convert.ToInt32(Console.ReadLine());\n",
    "}\n",
    "\n",
    "for (a = 0; a < input; a++)\n",
    "{\n",
    "    if (array1[a] % 2 == 0)\n",
    "    {\n",
    "        array2[b] = array1[a];\n",
    "        b++;\n",
    "    }\n",
    "    else\n",
    "    {\n",
    "        array3[c] = array1[a];\n",
    "        c++;\n",
    "    }\n",
    "}\n",
    "\n",
    "Console.WriteLine(\"The even numbers: \");\n",
    "for (a = 0; a < b; a++)\n",
    "{\n",
    "    Console.WriteLine($\"{array2[a]}\");\n",
    "}\n",
    "Console.WriteLine(\"The odd numbers: \");\n",
    "for (a = 0; a < c; a++)\n",
    "{\n",
    "    Console.WriteLine($\"{array3[a]}\");\n",
    "}"
   ]
  },
  {
   "cell_type": "raw",
   "id": "37fae34a",
   "metadata": {},
   "source": [
    "How many numbers do you have?\n",
    "5\n",
    "Enter 5 values in the array:\n",
    "Element 1 is: 25\n",
    "Element 2 is: 47\n",
    "Element 3 is: 42\n",
    "Element 4 is: 56\n",
    "Element 5 is: 32\n",
    "The even numbers:\n",
    "42\n",
    "56\n",
    "32\n",
    "The odd numbers:\n",
    "25\n",
    "47"
   ]
  },
  {
   "cell_type": "markdown",
   "id": "85428901",
   "metadata": {},
   "source": [
    "# Question 5"
   ]
  },
  {
   "cell_type": "raw",
   "id": "bcb7e8b2",
   "metadata": {},
   "source": [
    "True\n",
    "\n",
    "static void inside(double x, double y, double x1, double y1, double x2, double y2)\n",
    "{\n",
    "\tif (x > x1 && x < x2 && y > y1 && y < y2)\n",
    "\t{\n",
    "\t\tConsole.WriteLine(\"True\");\n",
    "\t}\n",
    "\telse\n",
    "\t{\n",
    "\t\tConsole.WriteLine(\"False\");\n",
    "\t}\n",
    "}\n",
    "inside(1, 1, 0, 0, 2, 3);"
   ]
  },
  {
   "cell_type": "raw",
   "id": "3ec251ea",
   "metadata": {},
   "source": [
    "False\n",
    "\n",
    "static void inside(double x, double y, double x1, double y1, double x2, double y2)\n",
    "{\n",
    "\tif (x > x1 && x < x2 && y > y1 && y < y2)\n",
    "\t{\n",
    "\t\tConsole.WriteLine(\"True\");\n",
    "\t}\n",
    "\telse\n",
    "\t{\n",
    "\t\tConsole.WriteLine(\"False\");\n",
    "\t}\n",
    "}\n",
    "inside(-1, -1, 0, 0, 2, 3);"
   ]
  },
  {
   "cell_type": "markdown",
   "id": "b9eb508a",
   "metadata": {},
   "source": [
    "# b."
   ]
  },
  {
   "cell_type": "raw",
   "id": "30219284",
   "metadata": {},
   "source": [
    "static\tvoid test()\n",
    "{\n",
    "\tConsole.WriteLine(\"Do points (1, 1, 0.3, 0.5, 1.1, 0.7) lie in the rectangle with inside above\");\n",
    "\n",
    "    inside(1, 1, 0.3, 0.5, 1.1, 0.7);\n",
    "\n",
    "\n",
    "\tConsole.WriteLine(\"Do points (1, 1, 0.5, 0.2, 1.1, 2) lie in the rectangle with inside above\");\n",
    "\n",
    "\tinside(1, 1, 0.5, 0.2, 1.1, 2);\n",
    "}\n",
    "test();"
   ]
  },
  {
   "cell_type": "markdown",
   "id": "87b9f5e2",
   "metadata": {},
   "source": [
    "# Question 6"
   ]
  },
  {
   "cell_type": "code",
   "execution_count": 33,
   "id": "3e695ad3",
   "metadata": {},
   "outputs": [
    {
     "name": "stdout",
     "output_type": "stream",
     "text": [
      ">>> pig -('happy') \n",
      "appyhay \n",
      ">>> pig - ('enter')\n",
      "enterway \n"
     ]
    }
   ],
   "source": [
    "def pig(originalWord):\n",
    "    a = originalWord.lower()\n",
    "    word = a.split()\n",
    "    vowelLetters = (\"a\", \"e\", \"i\", \"o\", \"u\")\n",
    "    if a[0] in vowelLetters:\n",
    "        for originalWord in word:\n",
    "            print(originalWord + \"way\", end = \" \")\n",
    "            \n",
    "    else:\n",
    "        for originalWord in word:\n",
    "            print(originalWord[1:] + originalWord[0] + \"ay\", end = \" \")\n",
    "    print()\n",
    "    \n",
    "print(\">>> pig -('happy') \")\n",
    "pig(\"happy\")\n",
    "print(\">>> pig - ('nter')\")\n",
    "pig(\"Enter\")"
   ]
  },
  {
   "cell_type": "markdown",
   "id": "7bbb99af",
   "metadata": {},
   "source": [
    "# Question 7"
   ]
  },
  {
   "cell_type": "code",
   "execution_count": 2,
   "id": "bcc6e9e3",
   "metadata": {},
   "outputs": [
    {
     "name": "stdout",
     "output_type": "stream",
     "text": [
      ">>>bldcount('C:/Users/ememu/OneDrive/Documents/SCHOOL WORK/2nd Semester/Data Programming - 1004(Thomas Parker)/bloodtype1.txt'):\n",
      "There are 15 patient(s) of blood type A\n",
      "There are 1 patient(s) of blood type B\n",
      "There are 13 patient(s) of blood type AB\n",
      "There are 15 patient(s) of blood type O\n",
      "There are 0 patient(s) of blood type OO\n"
     ]
    }
   ],
   "source": [
    "def bldcount(bloodtype):\n",
    "    with open(bloodtype) as t:\n",
    "        lines = t.read()\n",
    "        bloodgroup = lines.split()\n",
    "        \n",
    "    global a, b, c, d, e\n",
    "    a = 0\n",
    "    b = 0\n",
    "    c = 0\n",
    "    d = 0\n",
    "    e = 0\n",
    "    for name in bloodgroup:\n",
    "        if name == \"A\":\n",
    "            a = a + 1\n",
    "        elif name == \"B\":\n",
    "            b = b + 1\n",
    "        elif name == \"AB\":\n",
    "            c = c + 1\n",
    "        elif name == \"O\":\n",
    "            d = d +1\n",
    "        elif name == \"OO\":\n",
    "            e = e + 1\n",
    "            \n",
    "    print(\"There are \" + (str(a)) + \" patient(s) of blood type A\")\n",
    "    print(\"There are \" + (str(b)) + \" patient(s) of blood type B\")\n",
    "    print(\"There are \" + (str(c)) + \" patient(s) of blood type AB\")\n",
    "    print(\"There are \" + (str(d)) + \" patient(s) of blood type O\")\n",
    "    print(\"There are \" + (str(e)) + \" patient(s) of blood type OO\")\n",
    "\n",
    "\n",
    "print(\">>>bldcount('C:/Users/ememu/OneDrive/Documents/SCHOOL WORK/2nd Semester/Data Programming - 1004(Thomas Parker)/bloodtype1.txt'):\")\n",
    "bldcount('C:/Users/ememu/OneDrive/Documents/SCHOOL WORK/2nd Semester/Data Programming - 1004(Thomas Parker)/bloodtype1.txt')"
   ]
  },
  {
   "cell_type": "markdown",
   "id": "ad47cd81",
   "metadata": {},
   "source": [
    "# Question 8"
   ]
  },
  {
   "cell_type": "code",
   "execution_count": 3,
   "id": "9b38bc6d",
   "metadata": {},
   "outputs": [
    {
     "name": "stdout",
     "output_type": "stream",
     "text": [
      ">>>curconv('EUR', 100): \n",
      "122.96544\n",
      "\n",
      "\n",
      ">>>curconv('JPY', 100): \n",
      "1.241401\n"
     ]
    }
   ],
   "source": [
    "def curconv(currency, amount):\n",
    "    if currency == \"EUR\":\n",
    "        rate = 1.2296544*amount\n",
    "        \n",
    "    elif currency == \"JPY\":\n",
    "        rate = 0.01241401*amount\n",
    "        \n",
    "        \n",
    "    print(str(rate))\n",
    "    \n",
    "print(\">>>curconv('EUR', 100): \")\n",
    "curconv('EUR', 100)\n",
    "print(\"\\n\")\n",
    "print(\">>>curconv('JPY', 100): \")\n",
    "curconv('JPY', 100)"
   ]
  },
  {
   "cell_type": "markdown",
   "id": "5cf214b8",
   "metadata": {},
   "source": [
    "# Question 9"
   ]
  },
  {
   "cell_type": "code",
   "execution_count": 11,
   "id": "39f56d63",
   "metadata": {},
   "outputs": [
    {
     "name": "stdout",
     "output_type": "stream",
     "text": [
      "unsupported operand type(s) for +: 'int' and 'str'\n"
     ]
    }
   ],
   "source": [
    "try:\n",
    "    print(6 + 'a')\n",
    "except Exception as error:\n",
    "    print(error)"
   ]
  },
  {
   "cell_type": "code",
   "execution_count": 12,
   "id": "397e9277",
   "metadata": {},
   "outputs": [
    {
     "name": "stdout",
     "output_type": "stream",
     "text": [
      "list index out of range\n"
     ]
    }
   ],
   "source": [
    "try:\n",
    "    items = [0, 1, 2, 3, 4, 5, 6, 7, 8, 9]\n",
    "    print(items[12])\n",
    "except Exception as error:\n",
    "    print(error)"
   ]
  },
  {
   "cell_type": "code",
   "execution_count": 13,
   "id": "cbc9f3d8",
   "metadata": {},
   "outputs": [
    {
     "name": "stdout",
     "output_type": "stream",
     "text": [
      "math domain error\n"
     ]
    }
   ],
   "source": [
    "import math\n",
    "try:\n",
    "    print(math.sqrt(-1.0))\n",
    "except Exception as error:\n",
    "    print(error)"
   ]
  },
  {
   "cell_type": "code",
   "execution_count": 17,
   "id": "b96ddfdf",
   "metadata": {},
   "outputs": [
    {
     "name": "stdout",
     "output_type": "stream",
     "text": [
      "name 'x' is not defined\n"
     ]
    }
   ],
   "source": [
    "try:\n",
    "    print(x)\n",
    "except Exception as error:\n",
    "    print(error)"
   ]
  },
  {
   "cell_type": "code",
   "execution_count": 15,
   "id": "f8b93bcf",
   "metadata": {},
   "outputs": [
    {
     "name": "stdout",
     "output_type": "stream",
     "text": [
      "[Errno 2] No such file or directory: 'bloodtype2.txt'\n"
     ]
    }
   ],
   "source": [
    "try:\n",
    "    blood = open(\"bloodtype2.txt\")\n",
    "    blood.close()\n",
    "except Exception as error:\n",
    "    print(error)"
   ]
  },
  {
   "cell_type": "markdown",
   "id": "91e799ea",
   "metadata": {},
   "source": [
    "# Question 10"
   ]
  },
  {
   "cell_type": "code",
   "execution_count": 3,
   "id": "b98fd094",
   "metadata": {},
   "outputs": [
    {
     "name": "stdout",
     "output_type": "stream",
     "text": [
      ">>> frequencies('The quick red fox got bored and went home.')\n",
      "[1, 1, 1, 3, 5, 1, 1, 2, 1, 0, 1, 0, 1, 2, 4, 0, 1, 2, 0, 2, 1, 0, 1, 1, 0, 0]\n",
      "\n",
      "\n",
      ">>> frequencies('apple')\n",
      "[1, 0, 0, 0, 1, 0, 0, 0, 0, 0, 0, 1, 0, 0, 0, 2, 0, 0, 0, 0, 0, 0, 0, 0, 0, 0]\n"
     ]
    }
   ],
   "source": [
    "def frequencies(input):\n",
    "    alphabet = \"abcdefghijklmnopqrstuvwxyz\"\n",
    "    number = []\n",
    "    \n",
    "    for letters in alphabet:\n",
    "        count = input.count(letters)\n",
    "        number.append(count)\n",
    "    print(number)\n",
    "    \n",
    "\n",
    "print(\">>> frequencies('The quick red fox got bored and went home.')\")\n",
    "frequencies(\"The quick red fox got bored and went home.\")\n",
    "print('\\n')\n",
    "print(\">>> frequencies('apple')\")\n",
    "frequencies(\"apple\")"
   ]
  }
 ],
 "metadata": {
  "kernelspec": {
   "display_name": "Python 3 (ipykernel)",
   "language": "python",
   "name": "python3"
  },
  "language_info": {
   "codemirror_mode": {
    "name": "ipython",
    "version": 3
   },
   "file_extension": ".py",
   "mimetype": "text/x-python",
   "name": "python",
   "nbconvert_exporter": "python",
   "pygments_lexer": "ipython3",
   "version": "3.9.16"
  }
 },
 "nbformat": 4,
 "nbformat_minor": 5
}
